{
  "nbformat": 4,
  "nbformat_minor": 0,
  "metadata": {
    "colab": {
      "provenance": []
    },
    "kernelspec": {
      "name": "python3",
      "display_name": "Python 3"
    },
    "language_info": {
      "name": "python"
    }
  },
  "cells": [
    {
      "cell_type": "markdown",
      "source": [
        "#Introduction to OOP, Class and Object"
      ],
      "metadata": {
        "id": "Mo-v_8ZtwtY7"
      }
    },
    {
      "cell_type": "code",
      "execution_count": 1,
      "metadata": {
        "id": "722F_xRsvtRI"
      },
      "outputs": [],
      "source": [
        "class Student:\n",
        "  roll = ''\n",
        "  gpa = ''"
      ]
    },
    {
      "cell_type": "code",
      "source": [
        "rahim = Student()\n",
        "print(isinstance(rahim,Student))"
      ],
      "metadata": {
        "colab": {
          "base_uri": "https://localhost:8080/"
        },
        "id": "tSIuPE37wAjR",
        "outputId": "7b6cd67e-8d14-4c1a-ee0f-3c5b457fb5d2"
      },
      "execution_count": 2,
      "outputs": [
        {
          "output_type": "stream",
          "name": "stdout",
          "text": [
            "True\n"
          ]
        }
      ]
    },
    {
      "cell_type": "code",
      "source": [
        "rahim.roll = 101\n",
        "rahim.gpa = 3.70"
      ],
      "metadata": {
        "id": "MhXk5rT6wQtj"
      },
      "execution_count": 3,
      "outputs": []
    },
    {
      "cell_type": "code",
      "source": [
        "print(f\"Roll: {rahim.roll}, GPA: {rahim.gpa}\")"
      ],
      "metadata": {
        "colab": {
          "base_uri": "https://localhost:8080/"
        },
        "id": "y1p5Hd71wYQR",
        "outputId": "818a3dc2-1649-439a-a94a-790082cff001"
      },
      "execution_count": 4,
      "outputs": [
        {
          "output_type": "stream",
          "name": "stdout",
          "text": [
            "Roll: 101, GPA: 3.7\n"
          ]
        }
      ]
    },
    {
      "cell_type": "code",
      "source": [
        "karim = Student()\n",
        "\n",
        "karim.roll = 102\n",
        "karim.gpa = 3.75\n",
        "\n",
        "print(f\"For Rahim, Roll: {rahim.roll}, GPA: {rahim.gpa}\")\n",
        "print(f\"For Karim, Roll: {karim.roll}, GPA: {karim.gpa}\")"
      ],
      "metadata": {
        "colab": {
          "base_uri": "https://localhost:8080/"
        },
        "id": "kEe6Iucmw8oR",
        "outputId": "82f0c578-7d1f-4061-fda2-a94b4e4621a6"
      },
      "execution_count": 5,
      "outputs": [
        {
          "output_type": "stream",
          "name": "stdout",
          "text": [
            "For Rahim, Roll: 101, GPA: 3.7\n",
            "For Karim, Roll: 102, GPA: 3.75\n"
          ]
        }
      ]
    },
    {
      "cell_type": "markdown",
      "source": [
        "#Introducing Method or Function"
      ],
      "metadata": {
        "id": "rX7Ueqhrxvwl"
      }
    },
    {
      "cell_type": "code",
      "source": [
        "class Student:\n",
        "  roll = ''\n",
        "  gpa = ''\n",
        "\n",
        "  def display(self):\n",
        "    print(f\"Roll: {self.roll}, GPA: {self.gpa}\")"
      ],
      "metadata": {
        "id": "iNlrbruvxx7R"
      },
      "execution_count": 6,
      "outputs": []
    },
    {
      "cell_type": "code",
      "source": [
        "rahim = Student()\n",
        "rahim.roll = 101\n",
        "rahim.gpa = 3.70\n",
        "rahim.display()"
      ],
      "metadata": {
        "colab": {
          "base_uri": "https://localhost:8080/"
        },
        "id": "pZzfeRIbyWeR",
        "outputId": "8c82ad04-3f7e-4a9e-f12e-dfe40097d232"
      },
      "execution_count": 7,
      "outputs": [
        {
          "output_type": "stream",
          "name": "stdout",
          "text": [
            "Roll: 101, GPA: 3.7\n"
          ]
        }
      ]
    },
    {
      "cell_type": "code",
      "source": [
        "karim = Student()\n",
        "karim.roll = 102\n",
        "karim.gpa = 3.75\n",
        "karim.display()"
      ],
      "metadata": {
        "colab": {
          "base_uri": "https://localhost:8080/"
        },
        "id": "m4UmOyBHz4cL",
        "outputId": "43564cec-f8ba-4fa2-9cf6-7e59aa11ef3f"
      },
      "execution_count": 8,
      "outputs": [
        {
          "output_type": "stream",
          "name": "stdout",
          "text": [
            "Roll: 102, GPA: 3.75\n"
          ]
        }
      ]
    },
    {
      "cell_type": "markdown",
      "source": [
        "We can do it another way"
      ],
      "metadata": {
        "id": "Eif1JjNo2V3I"
      }
    },
    {
      "cell_type": "code",
      "source": [
        "class Student:\n",
        "  roll = ''\n",
        "  gpa = ''\n",
        "\n",
        "  def set_value(self, roll, gpa):\n",
        "    self.roll = roll\n",
        "    self.gpa = gpa\n",
        "\n",
        "  def display(self):\n",
        "    print(f\"Roll: {self.roll}, GPA: {self.gpa}\")"
      ],
      "metadata": {
        "id": "QiV3dlSS0Gae"
      },
      "execution_count": 9,
      "outputs": []
    },
    {
      "cell_type": "code",
      "source": [
        "rahim = Student()\n",
        "rahim.set_value(101, 3.75)\n",
        "rahim.display()"
      ],
      "metadata": {
        "colab": {
          "base_uri": "https://localhost:8080/"
        },
        "id": "G1-HwItq0vFw",
        "outputId": "24aa0cfa-c9eb-4810-b497-4ac05314cac7"
      },
      "execution_count": 10,
      "outputs": [
        {
          "output_type": "stream",
          "name": "stdout",
          "text": [
            "Roll: 101, GPA: 3.75\n"
          ]
        }
      ]
    },
    {
      "cell_type": "code",
      "source": [
        "karim = Student()\n",
        "karim.set_value(102, 3.70)\n",
        "karim.display()"
      ],
      "metadata": {
        "colab": {
          "base_uri": "https://localhost:8080/"
        },
        "id": "L-U1XMr_1J-L",
        "outputId": "bed70f5c-6b2b-4596-bd3e-bd72b0060f20"
      },
      "execution_count": 11,
      "outputs": [
        {
          "output_type": "stream",
          "name": "stdout",
          "text": [
            "Roll: 102, GPA: 3.7\n"
          ]
        }
      ]
    },
    {
      "cell_type": "markdown",
      "source": [
        "#Constractor"
      ],
      "metadata": {
        "id": "gyrLOn2828fm"
      }
    },
    {
      "cell_type": "code",
      "source": [
        "class Student:\n",
        "  roll = ''\n",
        "  gpa = ''\n",
        "\n",
        "  def __init__(self, roll, gpa):\n",
        "    self.roll = roll\n",
        "    self.gpa = gpa\n",
        "\n",
        "  def display(self):\n",
        "    print(f\"Roll: {self.roll}, GPA: {self.gpa}\")"
      ],
      "metadata": {
        "id": "FZuFv7VZ2-yr"
      },
      "execution_count": 12,
      "outputs": []
    },
    {
      "cell_type": "code",
      "source": [
        "rahim = Student(101, 3.75)\n",
        "rahim.display()"
      ],
      "metadata": {
        "colab": {
          "base_uri": "https://localhost:8080/"
        },
        "id": "iyFF0ldP3sR8",
        "outputId": "aa80cb29-9ec1-4ba4-cb0f-f0bc3d348812"
      },
      "execution_count": 13,
      "outputs": [
        {
          "output_type": "stream",
          "name": "stdout",
          "text": [
            "Roll: 101, GPA: 3.75\n"
          ]
        }
      ]
    },
    {
      "cell_type": "code",
      "source": [
        "karim = Student(102, 3.70)\n",
        "karim.display()"
      ],
      "metadata": {
        "colab": {
          "base_uri": "https://localhost:8080/"
        },
        "id": "bmAKsVKo37Oj",
        "outputId": "ba46b62b-131b-4a97-aa2d-51da3e123fb0"
      },
      "execution_count": 14,
      "outputs": [
        {
          "output_type": "stream",
          "name": "stdout",
          "text": [
            "Roll: 102, GPA: 3.7\n"
          ]
        }
      ]
    },
    {
      "cell_type": "markdown",
      "source": [
        "Exercise"
      ],
      "metadata": {
        "id": "ul7I-oM54qyo"
      }
    },
    {
      "cell_type": "code",
      "source": [
        "class Triangle:\n",
        "\n",
        "  def __init__(self, base, height):\n",
        "    self.base = base\n",
        "    self.height = height\n",
        "\n",
        "  def calculate_area(self):\n",
        "    area = 0.5 * self.base * self.height\n",
        "    print(\"Area: \", area)\n",
        "\n",
        "t1 = Triangle(10, 20)\n",
        "t1.calculate_area()\n",
        "\n",
        "t2 = Triangle(20, 30)\n",
        "t2.calculate_area()"
      ],
      "metadata": {
        "colab": {
          "base_uri": "https://localhost:8080/"
        },
        "id": "zTdRQ9t54tdP",
        "outputId": "9f9801e1-cc0d-467f-f905-36acf7066c1d"
      },
      "execution_count": 15,
      "outputs": [
        {
          "output_type": "stream",
          "name": "stdout",
          "text": [
            "Area:  100.0\n",
            "Area:  300.0\n"
          ]
        }
      ]
    },
    {
      "cell_type": "markdown",
      "source": [
        "#Inheritance"
      ],
      "metadata": {
        "id": "qfviXJTy70dN"
      }
    },
    {
      "cell_type": "code",
      "source": [
        "class Phone:\n",
        "\n",
        "  def call(self):\n",
        "    print(\"You can call\")\n",
        "\n",
        "  def message(self):\n",
        "    print(\"You can message\")"
      ],
      "metadata": {
        "id": "bu1ocXTe6Cq-"
      },
      "execution_count": 16,
      "outputs": []
    },
    {
      "cell_type": "code",
      "source": [
        "class Samsung:\n",
        "\n",
        "  def call(self):\n",
        "    print(\"You can call\")\n",
        "\n",
        "  def message(self):\n",
        "    print(\"You can message\")\n",
        "\n",
        "  def photo(self):\n",
        "    print(\"You can take photo\")"
      ],
      "metadata": {
        "id": "bKEpCBMe8U1N"
      },
      "execution_count": 17,
      "outputs": []
    },
    {
      "cell_type": "code",
      "source": [
        "p = Phone()\n",
        "p.message()\n",
        "p.call()"
      ],
      "metadata": {
        "colab": {
          "base_uri": "https://localhost:8080/"
        },
        "id": "yT1f41mi8tu3",
        "outputId": "d364cb5e-f36c-4ffe-c812-4891e04c6c06"
      },
      "execution_count": 18,
      "outputs": [
        {
          "output_type": "stream",
          "name": "stdout",
          "text": [
            "You can message\n",
            "You can call\n"
          ]
        }
      ]
    },
    {
      "cell_type": "code",
      "source": [
        "s = Samsung()\n",
        "s.message()\n",
        "s.call()\n",
        "s.photo()"
      ],
      "metadata": {
        "colab": {
          "base_uri": "https://localhost:8080/"
        },
        "id": "dxNVUXRE8-DF",
        "outputId": "9b4d9552-ccbb-4bda-f580-23a5a439fd0b"
      },
      "execution_count": 19,
      "outputs": [
        {
          "output_type": "stream",
          "name": "stdout",
          "text": [
            "You can message\n",
            "You can call\n",
            "You can take photo\n"
          ]
        }
      ]
    },
    {
      "cell_type": "markdown",
      "source": [
        "We can do it, but it needs repetation of code.\n",
        "\n",
        "So we need Inheritance"
      ],
      "metadata": {
        "id": "tsVqLDO49Qcq"
      }
    },
    {
      "cell_type": "code",
      "source": [
        "class Phone:\n",
        "\n",
        "  def call(self):\n",
        "    print(\"You can call\")\n",
        "\n",
        "  def message(self):\n",
        "    print(\"You can message\")"
      ],
      "metadata": {
        "id": "nLOSG-JA9Wp3"
      },
      "execution_count": 20,
      "outputs": []
    },
    {
      "cell_type": "code",
      "source": [
        "class Samsung(Phone):\n",
        "  #call & message\n",
        "  def photo(self):\n",
        "    print(\"You can take photo\")"
      ],
      "metadata": {
        "id": "BOjY5HrJ9rrM"
      },
      "execution_count": 21,
      "outputs": []
    },
    {
      "cell_type": "code",
      "source": [
        "s = Samsung()\n",
        "\n",
        "s.message()\n",
        "s.call()\n",
        "s.photo()"
      ],
      "metadata": {
        "colab": {
          "base_uri": "https://localhost:8080/"
        },
        "id": "m0OQ_qIz99Kg",
        "outputId": "c3cb5edd-9116-42d7-a94b-0f17620ff453"
      },
      "execution_count": 22,
      "outputs": [
        {
          "output_type": "stream",
          "name": "stdout",
          "text": [
            "You can message\n",
            "You can call\n",
            "You can take photo\n"
          ]
        }
      ]
    },
    {
      "cell_type": "markdown",
      "source": [
        "Here Samsung class is a subclass of Phone\n",
        "\n",
        "We can check it by below code"
      ],
      "metadata": {
        "id": "lSiYgSqf-Roq"
      }
    },
    {
      "cell_type": "code",
      "source": [
        "print(issubclass(Samsung, Phone))"
      ],
      "metadata": {
        "colab": {
          "base_uri": "https://localhost:8080/"
        },
        "id": "zdi2-ATA-htz",
        "outputId": "fdfe07c4-71ad-48ad-b94b-ccbe15078a32"
      },
      "execution_count": 23,
      "outputs": [
        {
          "output_type": "stream",
          "name": "stdout",
          "text": [
            "True\n"
          ]
        }
      ]
    },
    {
      "cell_type": "markdown",
      "source": [
        "Phone() = Parent class / Super class / Base class\n",
        "\n",
        "Samsung() = Child class / Sub class /Derived class"
      ],
      "metadata": {
        "id": "x1UFKlSz-yMF"
      }
    },
    {
      "cell_type": "markdown",
      "source": [
        "#Method Overriding"
      ],
      "metadata": {
        "id": "NNn_Gqbr_QEy"
      }
    },
    {
      "cell_type": "code",
      "source": [
        "class Phone:\n",
        "  def __init__(self):\n",
        "    print(\"I am in phone class\")\n",
        "\n",
        "class Samsung(Phone):\n",
        "  # init\n",
        "  pass\n",
        "\n",
        "s = Samsung()"
      ],
      "metadata": {
        "colab": {
          "base_uri": "https://localhost:8080/"
        },
        "id": "oxmKf8Vu_Tvv",
        "outputId": "0828a3b3-4400-4acf-ba56-7c4fb0521639"
      },
      "execution_count": 24,
      "outputs": [
        {
          "output_type": "stream",
          "name": "stdout",
          "text": [
            "I am in phone class\n"
          ]
        }
      ]
    },
    {
      "cell_type": "code",
      "source": [
        "class Phone:\n",
        "  def __init__(self):\n",
        "    print(\"I am in phone class\")\n",
        "\n",
        "class Samsung(Phone):\n",
        "  def __init__(self):\n",
        "    print(\"I am in Samsung class\")\n",
        "\n",
        "s = Samsung()"
      ],
      "metadata": {
        "colab": {
          "base_uri": "https://localhost:8080/"
        },
        "id": "ho0Ff8IvAFAI",
        "outputId": "2a67c953-b83a-4f22-f271-b0b8750baf25"
      },
      "execution_count": 25,
      "outputs": [
        {
          "output_type": "stream",
          "name": "stdout",
          "text": [
            "I am in Samsung class\n"
          ]
        }
      ]
    },
    {
      "cell_type": "markdown",
      "source": [
        "This is called overriding\n",
        "\n",
        "If you want to use the super class:"
      ],
      "metadata": {
        "id": "fxR5WtyiAUPV"
      }
    },
    {
      "cell_type": "code",
      "source": [
        "class Phone:\n",
        "  def __init__(self):\n",
        "    print(\"I am in phone class\")\n",
        "\n",
        "class Samsung(Phone):\n",
        "  def __init__(self):\n",
        "    super().__init__()\n",
        "    print(\"I am in Samsung class\")\n",
        "\n",
        "s = Samsung()"
      ],
      "metadata": {
        "colab": {
          "base_uri": "https://localhost:8080/"
        },
        "id": "zg1zK7KhAbF4",
        "outputId": "01245dc4-f58c-48f6-e46b-e131e98bc7e3"
      },
      "execution_count": 26,
      "outputs": [
        {
          "output_type": "stream",
          "name": "stdout",
          "text": [
            "I am in phone class\n",
            "I am in Samsung class\n"
          ]
        }
      ]
    },
    {
      "cell_type": "code",
      "source": [
        "class Shape:\n",
        "  def __init__(self, dim1, dim2):\n",
        "    self.dim1 = dim1\n",
        "    self.dim2 = dim2\n",
        "\n",
        "  def area(self):\n",
        "    print(\"I am area method of shape class\")\n",
        "\n",
        "class Triangle(Shape):\n",
        "  def area(self):\n",
        "    area = 0.5 * self.dim1 * self.dim2\n",
        "    print(\"Area of Triangle: \", area)\n",
        "\n",
        "class Rectangle(Shape):\n",
        "  def area(self):\n",
        "    area = self.dim1 * self.dim2\n",
        "    print(\"Area of Rectangle: \", area)\n",
        "\n",
        "t1 = Triangle(20, 30)\n",
        "t1.area()\n",
        "\n",
        "r1 = Rectangle(20, 30)\n",
        "r1.area()"
      ],
      "metadata": {
        "colab": {
          "base_uri": "https://localhost:8080/"
        },
        "id": "X5e7kkzmj-Ww",
        "outputId": "608b60af-54ff-4a45-95f6-9447b065862d"
      },
      "execution_count": 27,
      "outputs": [
        {
          "output_type": "stream",
          "name": "stdout",
          "text": [
            "Area of Triangle:  300.0\n",
            "Area of Rectangle:  600\n"
          ]
        }
      ]
    },
    {
      "cell_type": "markdown",
      "source": [
        "#Multiple Inheritance"
      ],
      "metadata": {
        "id": "4inILPuopy78"
      }
    },
    {
      "cell_type": "code",
      "source": [
        "class A:\n",
        "  def display1(self):\n",
        "    print(\"I am inside A class\")\n",
        "\n",
        "class B(A):\n",
        "  #display1\n",
        "  def display2(self):\n",
        "    print(\"I am inside B class\")\n",
        "\n",
        "class C(B):\n",
        "  #display1, display2\n",
        "  def display3(self):\n",
        "    print(\"I am inside C class\")\n",
        "\n",
        "ob1 = C()\n",
        "ob1.display1()\n",
        "ob1.display2()\n",
        "ob1.display3()"
      ],
      "metadata": {
        "colab": {
          "base_uri": "https://localhost:8080/"
        },
        "id": "o9Nu3mQuoYmn",
        "outputId": "9dccf125-1546-4f44-d57b-7ca94a22dd76"
      },
      "execution_count": 28,
      "outputs": [
        {
          "output_type": "stream",
          "name": "stdout",
          "text": [
            "I am inside A class\n",
            "I am inside B class\n",
            "I am inside C class\n"
          ]
        }
      ]
    },
    {
      "cell_type": "markdown",
      "source": [
        "here is another way"
      ],
      "metadata": {
        "id": "NHGNfioBqER9"
      }
    },
    {
      "cell_type": "code",
      "source": [
        "class A:\n",
        "  def display1(self):\n",
        "    print(\"I am inside A class\")\n",
        "\n",
        "class B(A):\n",
        "  #display1\n",
        "  def display2(self):\n",
        "    print(\"I am inside B class\")\n",
        "\n",
        "class C(B):\n",
        "  #display1, display2\n",
        "  def display3(self):\n",
        "    super().display1()\n",
        "    super().display2()\n",
        "    print(\"I am inside C class\")\n",
        "\n",
        "ob1 = C()\n",
        "ob1.display3()"
      ],
      "metadata": {
        "colab": {
          "base_uri": "https://localhost:8080/"
        },
        "id": "BKAev1T5qGe0",
        "outputId": "acf52d20-80de-4274-9f2b-c0770a33b0f0"
      },
      "execution_count": 29,
      "outputs": [
        {
          "output_type": "stream",
          "name": "stdout",
          "text": [
            "I am inside A class\n",
            "I am inside B class\n",
            "I am inside C class\n"
          ]
        }
      ]
    },
    {
      "cell_type": "code",
      "source": [
        "class A:\n",
        "  def display(self):\n",
        "    print(\"I am inside A class\")\n",
        "\n",
        "class B:\n",
        "  #display1\n",
        "  def display(self):\n",
        "    print(\"I am inside B class\")\n",
        "\n",
        "class C(A,B):\n",
        "  #A - display1\n",
        "  #B - display2\n",
        "  def display(self):\n",
        "    print(\"I am inside C class\")\n",
        "\n",
        "ob1 = C()\n",
        "ob1.display()"
      ],
      "metadata": {
        "colab": {
          "base_uri": "https://localhost:8080/"
        },
        "id": "na-Z7MNvqiCm",
        "outputId": "cc2951fd-f67a-4aa5-e5c6-1200278cbc59"
      },
      "execution_count": 30,
      "outputs": [
        {
          "output_type": "stream",
          "name": "stdout",
          "text": [
            "I am inside C class\n"
          ]
        }
      ]
    },
    {
      "cell_type": "code",
      "source": [
        "class A:\n",
        "  def display(self):\n",
        "    print(\"I am inside A class\")\n",
        "\n",
        "class B:\n",
        "  #display1\n",
        "  def display(self):\n",
        "    print(\"I am inside B class\")\n",
        "\n",
        "class C(B, A):\n",
        "  pass\n",
        "\n",
        "ob1 = C()\n",
        "ob1.display()"
      ],
      "metadata": {
        "id": "W2OBPAg-rOPQ",
        "outputId": "e7a92d30-d0d0-45f9-9073-89b24b30a47c",
        "colab": {
          "base_uri": "https://localhost:8080/"
        }
      },
      "execution_count": 31,
      "outputs": [
        {
          "output_type": "stream",
          "name": "stdout",
          "text": [
            "I am inside B class\n"
          ]
        }
      ]
    },
    {
      "cell_type": "markdown",
      "source": [
        "here it prints class B, because B was written first"
      ],
      "metadata": {
        "id": "YgB7liOerV_t"
      }
    },
    {
      "cell_type": "markdown",
      "source": [
        "#Abstraction"
      ],
      "metadata": {
        "id": "sot-lsM0rkXo"
      }
    },
    {
      "cell_type": "code",
      "source": [
        "class shape():\n",
        "  def __init__(self,dim1,dim2):\n",
        "    self.dim1 = dim1\n",
        "    self.dim2 = dim2\n",
        "\n",
        "  def area(self):\n",
        "    print(\"Shape has no area\")\n",
        "\n",
        "class Triangle(Shape):\n",
        "  def area(self):\n",
        "    area = 0.5 * self.dim1 * self.dim2\n",
        "    print(\"Area of Triangle: \", area)\n",
        "\n",
        "class Rectangle(shape):\n",
        "  def area(self):\n",
        "    area = self.dim1 * self.dim2\n",
        "    print(\"Area of Rectangle: \", area)\n",
        "\n",
        "t1 = Triangle(20,30)\n",
        "t1.area()\n",
        "\n",
        "r1 = Rectangle(20, 30)\n",
        "r1.area()"
      ],
      "metadata": {
        "id": "iZljkRbvrgQL",
        "outputId": "5b828b87-9a53-4141-d3ff-54b403f617fb",
        "colab": {
          "base_uri": "https://localhost:8080/"
        }
      },
      "execution_count": 32,
      "outputs": [
        {
          "output_type": "stream",
          "name": "stdout",
          "text": [
            "Area of Triangle:  300.0\n",
            "Area of Rectangle:  600\n"
          ]
        }
      ]
    },
    {
      "cell_type": "code",
      "source": [
        "class shape():\n",
        "  def __init__(self,dim1,dim2):\n",
        "    self.dim1 = dim1\n",
        "    self.dim2 = dim2\n",
        "\n",
        "  def area(self):\n",
        "    print(\"Shape has no area\")\n",
        "\n",
        "class Triangle(Shape):\n",
        "  def area(self):\n",
        "    area = 0.5 * self.dim1 * self.dim2\n",
        "    print(\"Area of Triangle: \", area)\n",
        "\n",
        "class Rectangle(shape):\n",
        "  def area(self):\n",
        "    area = self.dim1 * self.dim2\n",
        "    print(\"Area of Rectangle: \", area)\n",
        "\n",
        "s1 = shape(10,20)\n",
        "s1.area()\n",
        "\n",
        "t1 = Triangle(20,30)\n",
        "t1.area()\n",
        "\n",
        "r1 = Rectangle(20, 30)\n",
        "r1.area()"
      ],
      "metadata": {
        "id": "vQDFtoDwtrrh",
        "outputId": "cccdfc76-9ed4-4b36-9135-ee00276c5424",
        "colab": {
          "base_uri": "https://localhost:8080/"
        }
      },
      "execution_count": 33,
      "outputs": [
        {
          "output_type": "stream",
          "name": "stdout",
          "text": [
            "Shape has no area\n",
            "Area of Triangle:  300.0\n",
            "Area of Rectangle:  600\n"
          ]
        }
      ]
    },
    {
      "cell_type": "code",
      "source": [
        "from abc import ABC,abstractmethod\n",
        "\n",
        "class shape():\n",
        "  def __init__(self,dim1,dim2):\n",
        "    self.dim1 = dim1\n",
        "    self.dim2 = dim2\n",
        "\n",
        "  @abstractmethod\n",
        "  def area(self):\n",
        "    pass\n",
        "\n",
        "class Triangle(Shape):\n",
        "  def area(self):\n",
        "    area = 0.5 * self.dim1 * self.dim2\n",
        "    print(\"Area of Triangle: \", area)\n",
        "\n",
        "class Rectangle(shape):\n",
        "  def area(self):\n",
        "    area = self.dim1 * self.dim2\n",
        "    print(\"Area of Rectangle: \", area)\n",
        "\n",
        "s1 = shape(10,20)\n",
        "s1.area()\n",
        "\n",
        "t1 = Triangle(20,30)\n",
        "t1.area()\n",
        "\n",
        "r1 = Rectangle(20, 30)\n",
        "r1.area()"
      ],
      "metadata": {
        "id": "mSRynCWAuGYH",
        "outputId": "3f21b3c6-61a5-407b-b70e-a64544abb8b8",
        "colab": {
          "base_uri": "https://localhost:8080/"
        }
      },
      "execution_count": 34,
      "outputs": [
        {
          "output_type": "stream",
          "name": "stdout",
          "text": [
            "Area of Triangle:  300.0\n",
            "Area of Rectangle:  600\n"
          ]
        }
      ]
    },
    {
      "cell_type": "markdown",
      "source": [
        "#Polymorphism\n",
        "\n",
        "Same function work differently at different time"
      ],
      "metadata": {
        "id": "Kg5Dr2csviTU"
      }
    },
    {
      "cell_type": "code",
      "source": [
        "#built in polymorphic function\n",
        "print(len('Alim Al Razy'))\n",
        "print(len([10, 20, 30]))\n",
        "\n",
        "#user defined polymorphic function\n",
        "def add(x, y, z=0):\n",
        "  return x + y + z\n",
        "\n",
        "print(add(2,3))\n",
        "print(add(2,3,4))"
      ],
      "metadata": {
        "id": "YsaNMtIrvmcJ",
        "outputId": "2a9c6d89-9905-41dd-eac2-824992f9492b",
        "colab": {
          "base_uri": "https://localhost:8080/"
        }
      },
      "execution_count": 35,
      "outputs": [
        {
          "output_type": "stream",
          "name": "stdout",
          "text": [
            "12\n",
            "3\n",
            "5\n",
            "9\n"
          ]
        }
      ]
    }
  ]
}